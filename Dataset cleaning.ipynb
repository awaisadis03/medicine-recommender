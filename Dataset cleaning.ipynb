{
 "cells": [
  {
   "cell_type": "code",
   "execution_count": 1,
   "id": "053b7362",
   "metadata": {},
   "outputs": [],
   "source": [
    "\n",
    "import pandas as pd\n",
    "\n",
    "\n",
    "file_path = \"dataset.csv\"\n",
    "df = pd.read_csv(file_path)\n"
   ]
  },
  {
   "cell_type": "code",
   "execution_count": null,
   "id": "7e4107cd",
   "metadata": {},
   "outputs": [],
   "source": [
    "relevant_cols = ['Name', 'Uses', 'Composition']\n",
    "df = df[relevant_cols].dropna()"
   ]
  },
  {
   "cell_type": "code",
   "execution_count": null,
   "id": "fa2401e2",
   "metadata": {},
   "outputs": [],
   "source": [
    "positive_samples = df[['Uses', 'Name']].copy()\n",
    "positive_samples.columns = ['symptom_text', 'medicine_name']\n",
    "positive_samples['label'] = 1"
   ]
  },
  {
   "cell_type": "code",
   "execution_count": null,
   "id": "2eb2292e",
   "metadata": {},
   "outputs": [],
   "source": [
    "negative_samples = positive_samples.sample(frac=1, random_state=42).reset_index(drop=True)\n",
    "negative_samples['label'] = 0\n",
    "\n",
    "# Combine and shuffle\n",
    "training_data = pd.concat([positive_samples, negative_samples], ignore_index=True)\n",
    "training_data = training_data.sample(frac=1, random_state=1).reset_index(drop=True)"
   ]
  },
  {
   "cell_type": "code",
   "execution_count": null,
   "id": "1a89bf1b",
   "metadata": {},
   "outputs": [],
   "source": [
    "import ace_tools as tools; tools.display_dataframe_to_user(name=\"Symptom-Medicine Training Data\", dataframe=training_data)\n",
    "\n",
    "# Save to CSV\n",
    "training_data_path = \"symptom_medicine_training.csv\"\n",
    "training_data.to_csv(training_data_path, index=False)\n"
   ]
  }
 ],
 "metadata": {
  "kernelspec": {
   "display_name": "streamlit",
   "language": "python",
   "name": "python3"
  },
  "language_info": {
   "codemirror_mode": {
    "name": "ipython",
    "version": 3
   },
   "file_extension": ".py",
   "mimetype": "text/x-python",
   "name": "python",
   "nbconvert_exporter": "python",
   "pygments_lexer": "ipython3",
   "version": "3.12.8"
  }
 },
 "nbformat": 4,
 "nbformat_minor": 5
}
